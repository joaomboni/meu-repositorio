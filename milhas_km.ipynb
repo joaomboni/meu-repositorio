{
 "cells": [
  {
   "cell_type": "code",
   "execution_count": 3,
   "metadata": {},
   "outputs": [
    {
     "name": "stdout",
     "output_type": "stream",
     "text": [
      "Qual a velocidade em km/h ?20\n",
      "de milhas paras km/h você está em 37.04\n"
     ]
    }
   ],
   "source": [
    "m=float(input('Qual a velocidade em km/h ?'))\n",
    "vel=m*1.852\n",
    "print('de milhas paras km/h você está em', vel)"
   ]
  }
 ],
 "metadata": {
  "kernelspec": {
   "display_name": "Python 3",
   "language": "python",
   "name": "python3"
  },
  "language_info": {
   "codemirror_mode": {
    "name": "ipython",
    "version": 3
   },
   "file_extension": ".py",
   "mimetype": "text/x-python",
   "name": "python",
   "nbconvert_exporter": "python",
   "pygments_lexer": "ipython3",
   "version": "3.9.0"
  }
 },
 "nbformat": 4,
 "nbformat_minor": 4
}
